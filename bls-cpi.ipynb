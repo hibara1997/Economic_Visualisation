{
 "cells": [
  {
   "cell_type": "code",
   "execution_count": 1,
   "metadata": {},
   "outputs": [],
   "source": [
    "import pandas as pd\n",
    "import matplotlib as plt\n",
    "import bls"
   ]
  },
  {
   "cell_type": "code",
   "execution_count": 2,
   "metadata": {},
   "outputs": [
    {
     "name": "stderr",
     "output_type": "stream",
     "text": [
      "No Data Available for Series CUUR0000SA0 Year: 2021\n"
     ]
    }
   ],
   "source": [
    "cpi = bls.get_series('CUUR0000SA0')\n",
    "cpi.to_csv('bls_cpi_data.csv')\n",
    "cpi_data = pd.read_csv('bls_cpi_data.csv')\n",
    "cpi_data.columns = 'Date','CPI'"
   ]
  },
  {
   "cell_type": "code",
   "execution_count": 3,
   "metadata": {},
   "outputs": [
    {
     "data": {
      "text/html": [
       "<div>\n",
       "<style scoped>\n",
       "    .dataframe tbody tr th:only-of-type {\n",
       "        vertical-align: middle;\n",
       "    }\n",
       "\n",
       "    .dataframe tbody tr th {\n",
       "        vertical-align: top;\n",
       "    }\n",
       "\n",
       "    .dataframe thead th {\n",
       "        text-align: right;\n",
       "    }\n",
       "</style>\n",
       "<table border=\"1\" class=\"dataframe\">\n",
       "  <thead>\n",
       "    <tr style=\"text-align: right;\">\n",
       "      <th></th>\n",
       "      <th>Date</th>\n",
       "      <th>CPI</th>\n",
       "    </tr>\n",
       "  </thead>\n",
       "  <tbody>\n",
       "    <tr>\n",
       "      <th>0</th>\n",
       "      <td>2002-01</td>\n",
       "      <td>177.100</td>\n",
       "    </tr>\n",
       "    <tr>\n",
       "      <th>1</th>\n",
       "      <td>2002-02</td>\n",
       "      <td>177.800</td>\n",
       "    </tr>\n",
       "    <tr>\n",
       "      <th>2</th>\n",
       "      <td>2002-03</td>\n",
       "      <td>178.800</td>\n",
       "    </tr>\n",
       "    <tr>\n",
       "      <th>3</th>\n",
       "      <td>2002-04</td>\n",
       "      <td>179.800</td>\n",
       "    </tr>\n",
       "    <tr>\n",
       "      <th>4</th>\n",
       "      <td>2002-05</td>\n",
       "      <td>179.800</td>\n",
       "    </tr>\n",
       "    <tr>\n",
       "      <th>...</th>\n",
       "      <td>...</td>\n",
       "      <td>...</td>\n",
       "    </tr>\n",
       "    <tr>\n",
       "      <th>222</th>\n",
       "      <td>2020-07</td>\n",
       "      <td>259.101</td>\n",
       "    </tr>\n",
       "    <tr>\n",
       "      <th>223</th>\n",
       "      <td>2020-08</td>\n",
       "      <td>259.918</td>\n",
       "    </tr>\n",
       "    <tr>\n",
       "      <th>224</th>\n",
       "      <td>2020-09</td>\n",
       "      <td>260.280</td>\n",
       "    </tr>\n",
       "    <tr>\n",
       "      <th>225</th>\n",
       "      <td>2020-10</td>\n",
       "      <td>260.388</td>\n",
       "    </tr>\n",
       "    <tr>\n",
       "      <th>226</th>\n",
       "      <td>2020-11</td>\n",
       "      <td>260.229</td>\n",
       "    </tr>\n",
       "  </tbody>\n",
       "</table>\n",
       "<p>227 rows × 2 columns</p>\n",
       "</div>"
      ],
      "text/plain": [
       "        Date      CPI\n",
       "0    2002-01  177.100\n",
       "1    2002-02  177.800\n",
       "2    2002-03  178.800\n",
       "3    2002-04  179.800\n",
       "4    2002-05  179.800\n",
       "..       ...      ...\n",
       "222  2020-07  259.101\n",
       "223  2020-08  259.918\n",
       "224  2020-09  260.280\n",
       "225  2020-10  260.388\n",
       "226  2020-11  260.229\n",
       "\n",
       "[227 rows x 2 columns]"
      ]
     },
     "execution_count": 3,
     "metadata": {},
     "output_type": "execute_result"
    }
   ],
   "source": [
    "cpi_data"
   ]
  },
  {
   "cell_type": "code",
   "execution_count": 4,
   "metadata": {},
   "outputs": [
    {
     "data": {
      "text/plain": [
       "0      2002-01\n",
       "1      2002-02\n",
       "2       2002Q1\n",
       "3      2002-04\n",
       "4      2002-05\n",
       "        ...   \n",
       "222    2020-07\n",
       "223    2020-08\n",
       "224     2020Q3\n",
       "225    2020-10\n",
       "226    2020-11\n",
       "Name: Date, Length: 227, dtype: object"
      ]
     },
     "execution_count": 4,
     "metadata": {},
     "output_type": "execute_result"
    }
   ],
   "source": [
    "cpi_data['Date'] = cpi_data['Date'].str.replace('-03', 'Q1')\n",
    "cpi_data['Date'] = cpi_data['Date'].str.replace('-06', 'Q2')\n",
    "cpi_data['Date'] = cpi_data['Date'].str.replace('-09', 'Q3')\n",
    "cpi_data['Date'] = cpi_data['Date'].str.replace('-12', 'Q4')\n",
    "cpi_data['Date']"
   ]
  },
  {
   "cell_type": "code",
   "execution_count": 5,
   "metadata": {},
   "outputs": [
    {
     "data": {
      "text/html": [
       "<div>\n",
       "<style scoped>\n",
       "    .dataframe tbody tr th:only-of-type {\n",
       "        vertical-align: middle;\n",
       "    }\n",
       "\n",
       "    .dataframe tbody tr th {\n",
       "        vertical-align: top;\n",
       "    }\n",
       "\n",
       "    .dataframe thead th {\n",
       "        text-align: right;\n",
       "    }\n",
       "</style>\n",
       "<table border=\"1\" class=\"dataframe\">\n",
       "  <thead>\n",
       "    <tr style=\"text-align: right;\">\n",
       "      <th></th>\n",
       "      <th>Date</th>\n",
       "      <th>CPI</th>\n",
       "    </tr>\n",
       "  </thead>\n",
       "  <tbody>\n",
       "    <tr>\n",
       "      <th>0</th>\n",
       "      <td>2002-01</td>\n",
       "      <td>177.100</td>\n",
       "    </tr>\n",
       "    <tr>\n",
       "      <th>1</th>\n",
       "      <td>2002-02</td>\n",
       "      <td>177.800</td>\n",
       "    </tr>\n",
       "    <tr>\n",
       "      <th>2</th>\n",
       "      <td>2002Q1</td>\n",
       "      <td>178.800</td>\n",
       "    </tr>\n",
       "    <tr>\n",
       "      <th>3</th>\n",
       "      <td>2002-04</td>\n",
       "      <td>179.800</td>\n",
       "    </tr>\n",
       "    <tr>\n",
       "      <th>4</th>\n",
       "      <td>2002-05</td>\n",
       "      <td>179.800</td>\n",
       "    </tr>\n",
       "    <tr>\n",
       "      <th>...</th>\n",
       "      <td>...</td>\n",
       "      <td>...</td>\n",
       "    </tr>\n",
       "    <tr>\n",
       "      <th>222</th>\n",
       "      <td>2020-07</td>\n",
       "      <td>259.101</td>\n",
       "    </tr>\n",
       "    <tr>\n",
       "      <th>223</th>\n",
       "      <td>2020-08</td>\n",
       "      <td>259.918</td>\n",
       "    </tr>\n",
       "    <tr>\n",
       "      <th>224</th>\n",
       "      <td>2020Q3</td>\n",
       "      <td>260.280</td>\n",
       "    </tr>\n",
       "    <tr>\n",
       "      <th>225</th>\n",
       "      <td>2020-10</td>\n",
       "      <td>260.388</td>\n",
       "    </tr>\n",
       "    <tr>\n",
       "      <th>226</th>\n",
       "      <td>2020-11</td>\n",
       "      <td>260.229</td>\n",
       "    </tr>\n",
       "  </tbody>\n",
       "</table>\n",
       "<p>227 rows × 2 columns</p>\n",
       "</div>"
      ],
      "text/plain": [
       "        Date      CPI\n",
       "0    2002-01  177.100\n",
       "1    2002-02  177.800\n",
       "2     2002Q1  178.800\n",
       "3    2002-04  179.800\n",
       "4    2002-05  179.800\n",
       "..       ...      ...\n",
       "222  2020-07  259.101\n",
       "223  2020-08  259.918\n",
       "224   2020Q3  260.280\n",
       "225  2020-10  260.388\n",
       "226  2020-11  260.229\n",
       "\n",
       "[227 rows x 2 columns]"
      ]
     },
     "execution_count": 5,
     "metadata": {},
     "output_type": "execute_result"
    }
   ],
   "source": [
    "cpi_data"
   ]
  },
  {
   "cell_type": "code",
   "execution_count": 6,
   "metadata": {},
   "outputs": [],
   "source": [
    "newcpi = cpi_data[(cpi_data.Date.str.contains(\"-\") == False)]\n",
    "newcpi.to_csv('cpi-clean.csv')"
   ]
  },
  {
   "cell_type": "code",
   "execution_count": 7,
   "metadata": {},
   "outputs": [
    {
     "data": {
      "text/html": [
       "<div>\n",
       "<style scoped>\n",
       "    .dataframe tbody tr th:only-of-type {\n",
       "        vertical-align: middle;\n",
       "    }\n",
       "\n",
       "    .dataframe tbody tr th {\n",
       "        vertical-align: top;\n",
       "    }\n",
       "\n",
       "    .dataframe thead th {\n",
       "        text-align: right;\n",
       "    }\n",
       "</style>\n",
       "<table border=\"1\" class=\"dataframe\">\n",
       "  <thead>\n",
       "    <tr style=\"text-align: right;\">\n",
       "      <th></th>\n",
       "      <th>Date</th>\n",
       "      <th>CPI</th>\n",
       "    </tr>\n",
       "  </thead>\n",
       "  <tbody>\n",
       "    <tr>\n",
       "      <th>2</th>\n",
       "      <td>2002Q1</td>\n",
       "      <td>178.800</td>\n",
       "    </tr>\n",
       "    <tr>\n",
       "      <th>5</th>\n",
       "      <td>2002Q2</td>\n",
       "      <td>179.900</td>\n",
       "    </tr>\n",
       "    <tr>\n",
       "      <th>8</th>\n",
       "      <td>2002Q3</td>\n",
       "      <td>181.000</td>\n",
       "    </tr>\n",
       "    <tr>\n",
       "      <th>11</th>\n",
       "      <td>2002Q4</td>\n",
       "      <td>180.900</td>\n",
       "    </tr>\n",
       "    <tr>\n",
       "      <th>14</th>\n",
       "      <td>2003Q1</td>\n",
       "      <td>184.200</td>\n",
       "    </tr>\n",
       "    <tr>\n",
       "      <th>...</th>\n",
       "      <td>...</td>\n",
       "      <td>...</td>\n",
       "    </tr>\n",
       "    <tr>\n",
       "      <th>212</th>\n",
       "      <td>2019Q3</td>\n",
       "      <td>256.759</td>\n",
       "    </tr>\n",
       "    <tr>\n",
       "      <th>215</th>\n",
       "      <td>2019Q4</td>\n",
       "      <td>256.974</td>\n",
       "    </tr>\n",
       "    <tr>\n",
       "      <th>218</th>\n",
       "      <td>2020Q1</td>\n",
       "      <td>258.115</td>\n",
       "    </tr>\n",
       "    <tr>\n",
       "      <th>221</th>\n",
       "      <td>2020Q2</td>\n",
       "      <td>257.797</td>\n",
       "    </tr>\n",
       "    <tr>\n",
       "      <th>224</th>\n",
       "      <td>2020Q3</td>\n",
       "      <td>260.280</td>\n",
       "    </tr>\n",
       "  </tbody>\n",
       "</table>\n",
       "<p>75 rows × 2 columns</p>\n",
       "</div>"
      ],
      "text/plain": [
       "       Date      CPI\n",
       "2    2002Q1  178.800\n",
       "5    2002Q2  179.900\n",
       "8    2002Q3  181.000\n",
       "11   2002Q4  180.900\n",
       "14   2003Q1  184.200\n",
       "..      ...      ...\n",
       "212  2019Q3  256.759\n",
       "215  2019Q4  256.974\n",
       "218  2020Q1  258.115\n",
       "221  2020Q2  257.797\n",
       "224  2020Q3  260.280\n",
       "\n",
       "[75 rows x 2 columns]"
      ]
     },
     "execution_count": 7,
     "metadata": {},
     "output_type": "execute_result"
    }
   ],
   "source": [
    "newcpi"
   ]
  },
  {
   "cell_type": "code",
   "execution_count": 8,
   "metadata": {},
   "outputs": [],
   "source": [
    "#######################################"
   ]
  },
  {
   "cell_type": "code",
   "execution_count": 9,
   "metadata": {},
   "outputs": [
    {
     "name": "stderr",
     "output_type": "stream",
     "text": [
      "No Data Available for Series CIU2020000000000A Year: 2021\n"
     ]
    },
    {
     "data": {
      "text/html": [
       "<div>\n",
       "<style scoped>\n",
       "    .dataframe tbody tr th:only-of-type {\n",
       "        vertical-align: middle;\n",
       "    }\n",
       "\n",
       "    .dataframe tbody tr th {\n",
       "        vertical-align: top;\n",
       "    }\n",
       "\n",
       "    .dataframe thead th {\n",
       "        text-align: right;\n",
       "    }\n",
       "</style>\n",
       "<table border=\"1\" class=\"dataframe\">\n",
       "  <thead>\n",
       "    <tr style=\"text-align: right;\">\n",
       "      <th></th>\n",
       "      <th>Date</th>\n",
       "      <th>Wages</th>\n",
       "    </tr>\n",
       "  </thead>\n",
       "  <tbody>\n",
       "    <tr>\n",
       "      <th>0</th>\n",
       "      <td>2002Q1</td>\n",
       "      <td>3.5</td>\n",
       "    </tr>\n",
       "    <tr>\n",
       "      <th>1</th>\n",
       "      <td>2002Q2</td>\n",
       "      <td>3.6</td>\n",
       "    </tr>\n",
       "    <tr>\n",
       "      <th>2</th>\n",
       "      <td>2002Q3</td>\n",
       "      <td>3.1</td>\n",
       "    </tr>\n",
       "    <tr>\n",
       "      <th>3</th>\n",
       "      <td>2002Q4</td>\n",
       "      <td>2.6</td>\n",
       "    </tr>\n",
       "    <tr>\n",
       "      <th>4</th>\n",
       "      <td>2003Q1</td>\n",
       "      <td>2.9</td>\n",
       "    </tr>\n",
       "  </tbody>\n",
       "</table>\n",
       "</div>"
      ],
      "text/plain": [
       "     Date  Wages\n",
       "0  2002Q1    3.5\n",
       "1  2002Q2    3.6\n",
       "2  2002Q3    3.1\n",
       "3  2002Q4    2.6\n",
       "4  2003Q1    2.9"
      ]
     },
     "execution_count": 9,
     "metadata": {},
     "output_type": "execute_result"
    }
   ],
   "source": [
    "wages = bls.get_series('CIU2020000000000A')\n",
    "# Wages and salaries for Private industry workers in All industries and occupations, 12-month percent change\n",
    "wages.to_csv('bls_wages_data_csv')\n",
    "df = pd.read_csv('bls_wages_data_csv')\n",
    "df.columns = 'Date','Wages'\n",
    "df.head()"
   ]
  },
  {
   "cell_type": "code",
   "execution_count": 10,
   "metadata": {},
   "outputs": [
    {
     "data": {
      "text/html": [
       "<div>\n",
       "<style scoped>\n",
       "    .dataframe tbody tr th:only-of-type {\n",
       "        vertical-align: middle;\n",
       "    }\n",
       "\n",
       "    .dataframe tbody tr th {\n",
       "        vertical-align: top;\n",
       "    }\n",
       "\n",
       "    .dataframe thead th {\n",
       "        text-align: right;\n",
       "    }\n",
       "</style>\n",
       "<table border=\"1\" class=\"dataframe\">\n",
       "  <thead>\n",
       "    <tr style=\"text-align: right;\">\n",
       "      <th></th>\n",
       "      <th>Date</th>\n",
       "      <th>Wages</th>\n",
       "    </tr>\n",
       "  </thead>\n",
       "  <tbody>\n",
       "    <tr>\n",
       "      <th>0</th>\n",
       "      <td>2002Q1</td>\n",
       "      <td>3.5</td>\n",
       "    </tr>\n",
       "    <tr>\n",
       "      <th>1</th>\n",
       "      <td>2002Q2</td>\n",
       "      <td>3.6</td>\n",
       "    </tr>\n",
       "    <tr>\n",
       "      <th>2</th>\n",
       "      <td>2002Q3</td>\n",
       "      <td>3.1</td>\n",
       "    </tr>\n",
       "    <tr>\n",
       "      <th>3</th>\n",
       "      <td>2002Q4</td>\n",
       "      <td>2.6</td>\n",
       "    </tr>\n",
       "    <tr>\n",
       "      <th>4</th>\n",
       "      <td>2003Q1</td>\n",
       "      <td>2.9</td>\n",
       "    </tr>\n",
       "    <tr>\n",
       "      <th>...</th>\n",
       "      <td>...</td>\n",
       "      <td>...</td>\n",
       "    </tr>\n",
       "    <tr>\n",
       "      <th>70</th>\n",
       "      <td>2019Q3</td>\n",
       "      <td>3.0</td>\n",
       "    </tr>\n",
       "    <tr>\n",
       "      <th>71</th>\n",
       "      <td>2019Q4</td>\n",
       "      <td>3.0</td>\n",
       "    </tr>\n",
       "    <tr>\n",
       "      <th>72</th>\n",
       "      <td>2020Q1</td>\n",
       "      <td>3.3</td>\n",
       "    </tr>\n",
       "    <tr>\n",
       "      <th>73</th>\n",
       "      <td>2020Q2</td>\n",
       "      <td>2.9</td>\n",
       "    </tr>\n",
       "    <tr>\n",
       "      <th>74</th>\n",
       "      <td>2020Q3</td>\n",
       "      <td>2.7</td>\n",
       "    </tr>\n",
       "  </tbody>\n",
       "</table>\n",
       "<p>75 rows × 2 columns</p>\n",
       "</div>"
      ],
      "text/plain": [
       "      Date  Wages\n",
       "0   2002Q1    3.5\n",
       "1   2002Q2    3.6\n",
       "2   2002Q3    3.1\n",
       "3   2002Q4    2.6\n",
       "4   2003Q1    2.9\n",
       "..     ...    ...\n",
       "70  2019Q3    3.0\n",
       "71  2019Q4    3.0\n",
       "72  2020Q1    3.3\n",
       "73  2020Q2    2.9\n",
       "74  2020Q3    2.7\n",
       "\n",
       "[75 rows x 2 columns]"
      ]
     },
     "execution_count": 10,
     "metadata": {},
     "output_type": "execute_result"
    }
   ],
   "source": [
    "import numpy as np\n",
    "newdf = df\n",
    "newdf"
   ]
  },
  {
   "cell_type": "code",
   "execution_count": 11,
   "metadata": {},
   "outputs": [],
   "source": [
    "newnum = 177.1\n",
    "def process_wages(x):\n",
    "    global newnum\n",
    "    if type(x) is str:\n",
    "        return x\n",
    "    elif x:\n",
    "        newnum = (x / 400) * newnum + newnum\n",
    "        return newnum\n",
    "    else:\n",
    "        return\n",
    "newwages = newdf.applymap(process_wages)"
   ]
  },
  {
   "cell_type": "code",
   "execution_count": 12,
   "metadata": {},
   "outputs": [
    {
     "data": {
      "text/html": [
       "<div>\n",
       "<style scoped>\n",
       "    .dataframe tbody tr th:only-of-type {\n",
       "        vertical-align: middle;\n",
       "    }\n",
       "\n",
       "    .dataframe tbody tr th {\n",
       "        vertical-align: top;\n",
       "    }\n",
       "\n",
       "    .dataframe thead th {\n",
       "        text-align: right;\n",
       "    }\n",
       "</style>\n",
       "<table border=\"1\" class=\"dataframe\">\n",
       "  <thead>\n",
       "    <tr style=\"text-align: right;\">\n",
       "      <th></th>\n",
       "      <th>Date</th>\n",
       "      <th>Wages</th>\n",
       "    </tr>\n",
       "  </thead>\n",
       "  <tbody>\n",
       "    <tr>\n",
       "      <th>0</th>\n",
       "      <td>2002Q1</td>\n",
       "      <td>178.649625</td>\n",
       "    </tr>\n",
       "    <tr>\n",
       "      <th>1</th>\n",
       "      <td>2002Q2</td>\n",
       "      <td>180.257472</td>\n",
       "    </tr>\n",
       "    <tr>\n",
       "      <th>2</th>\n",
       "      <td>2002Q3</td>\n",
       "      <td>181.654467</td>\n",
       "    </tr>\n",
       "    <tr>\n",
       "      <th>3</th>\n",
       "      <td>2002Q4</td>\n",
       "      <td>182.835221</td>\n",
       "    </tr>\n",
       "    <tr>\n",
       "      <th>4</th>\n",
       "      <td>2003Q1</td>\n",
       "      <td>184.160776</td>\n",
       "    </tr>\n",
       "    <tr>\n",
       "      <th>...</th>\n",
       "      <td>...</td>\n",
       "      <td>...</td>\n",
       "    </tr>\n",
       "    <tr>\n",
       "      <th>70</th>\n",
       "      <td>2019Q3</td>\n",
       "      <td>273.092663</td>\n",
       "    </tr>\n",
       "    <tr>\n",
       "      <th>71</th>\n",
       "      <td>2019Q4</td>\n",
       "      <td>275.140858</td>\n",
       "    </tr>\n",
       "    <tr>\n",
       "      <th>72</th>\n",
       "      <td>2020Q1</td>\n",
       "      <td>277.410770</td>\n",
       "    </tr>\n",
       "    <tr>\n",
       "      <th>73</th>\n",
       "      <td>2020Q2</td>\n",
       "      <td>279.421999</td>\n",
       "    </tr>\n",
       "    <tr>\n",
       "      <th>74</th>\n",
       "      <td>2020Q3</td>\n",
       "      <td>281.308097</td>\n",
       "    </tr>\n",
       "  </tbody>\n",
       "</table>\n",
       "<p>75 rows × 2 columns</p>\n",
       "</div>"
      ],
      "text/plain": [
       "      Date       Wages\n",
       "0   2002Q1  178.649625\n",
       "1   2002Q2  180.257472\n",
       "2   2002Q3  181.654467\n",
       "3   2002Q4  182.835221\n",
       "4   2003Q1  184.160776\n",
       "..     ...         ...\n",
       "70  2019Q3  273.092663\n",
       "71  2019Q4  275.140858\n",
       "72  2020Q1  277.410770\n",
       "73  2020Q2  279.421999\n",
       "74  2020Q3  281.308097\n",
       "\n",
       "[75 rows x 2 columns]"
      ]
     },
     "execution_count": 12,
     "metadata": {},
     "output_type": "execute_result"
    }
   ],
   "source": [
    "newwages"
   ]
  },
  {
   "cell_type": "code",
   "execution_count": 13,
   "metadata": {},
   "outputs": [],
   "source": [
    "merged_data = pd.merge(newcpi, newwages, on='Date')"
   ]
  },
  {
   "cell_type": "code",
   "execution_count": 14,
   "metadata": {},
   "outputs": [
    {
     "data": {
      "text/html": [
       "<div>\n",
       "<style scoped>\n",
       "    .dataframe tbody tr th:only-of-type {\n",
       "        vertical-align: middle;\n",
       "    }\n",
       "\n",
       "    .dataframe tbody tr th {\n",
       "        vertical-align: top;\n",
       "    }\n",
       "\n",
       "    .dataframe thead th {\n",
       "        text-align: right;\n",
       "    }\n",
       "</style>\n",
       "<table border=\"1\" class=\"dataframe\">\n",
       "  <thead>\n",
       "    <tr style=\"text-align: right;\">\n",
       "      <th></th>\n",
       "      <th>Date</th>\n",
       "      <th>CPI</th>\n",
       "      <th>Wages</th>\n",
       "    </tr>\n",
       "  </thead>\n",
       "  <tbody>\n",
       "    <tr>\n",
       "      <th>0</th>\n",
       "      <td>2002Q1</td>\n",
       "      <td>178.800</td>\n",
       "      <td>178.649625</td>\n",
       "    </tr>\n",
       "    <tr>\n",
       "      <th>1</th>\n",
       "      <td>2002Q2</td>\n",
       "      <td>179.900</td>\n",
       "      <td>180.257472</td>\n",
       "    </tr>\n",
       "    <tr>\n",
       "      <th>2</th>\n",
       "      <td>2002Q3</td>\n",
       "      <td>181.000</td>\n",
       "      <td>181.654467</td>\n",
       "    </tr>\n",
       "    <tr>\n",
       "      <th>3</th>\n",
       "      <td>2002Q4</td>\n",
       "      <td>180.900</td>\n",
       "      <td>182.835221</td>\n",
       "    </tr>\n",
       "    <tr>\n",
       "      <th>4</th>\n",
       "      <td>2003Q1</td>\n",
       "      <td>184.200</td>\n",
       "      <td>184.160776</td>\n",
       "    </tr>\n",
       "    <tr>\n",
       "      <th>...</th>\n",
       "      <td>...</td>\n",
       "      <td>...</td>\n",
       "      <td>...</td>\n",
       "    </tr>\n",
       "    <tr>\n",
       "      <th>70</th>\n",
       "      <td>2019Q3</td>\n",
       "      <td>256.759</td>\n",
       "      <td>273.092663</td>\n",
       "    </tr>\n",
       "    <tr>\n",
       "      <th>71</th>\n",
       "      <td>2019Q4</td>\n",
       "      <td>256.974</td>\n",
       "      <td>275.140858</td>\n",
       "    </tr>\n",
       "    <tr>\n",
       "      <th>72</th>\n",
       "      <td>2020Q1</td>\n",
       "      <td>258.115</td>\n",
       "      <td>277.410770</td>\n",
       "    </tr>\n",
       "    <tr>\n",
       "      <th>73</th>\n",
       "      <td>2020Q2</td>\n",
       "      <td>257.797</td>\n",
       "      <td>279.421999</td>\n",
       "    </tr>\n",
       "    <tr>\n",
       "      <th>74</th>\n",
       "      <td>2020Q3</td>\n",
       "      <td>260.280</td>\n",
       "      <td>281.308097</td>\n",
       "    </tr>\n",
       "  </tbody>\n",
       "</table>\n",
       "<p>75 rows × 3 columns</p>\n",
       "</div>"
      ],
      "text/plain": [
       "      Date      CPI       Wages\n",
       "0   2002Q1  178.800  178.649625\n",
       "1   2002Q2  179.900  180.257472\n",
       "2   2002Q3  181.000  181.654467\n",
       "3   2002Q4  180.900  182.835221\n",
       "4   2003Q1  184.200  184.160776\n",
       "..     ...      ...         ...\n",
       "70  2019Q3  256.759  273.092663\n",
       "71  2019Q4  256.974  275.140858\n",
       "72  2020Q1  258.115  277.410770\n",
       "73  2020Q2  257.797  279.421999\n",
       "74  2020Q3  260.280  281.308097\n",
       "\n",
       "[75 rows x 3 columns]"
      ]
     },
     "execution_count": 14,
     "metadata": {},
     "output_type": "execute_result"
    }
   ],
   "source": [
    "merged_data"
   ]
  },
  {
   "cell_type": "code",
   "execution_count": 15,
   "metadata": {
    "scrolled": true
   },
   "outputs": [
    {
     "data": {
      "text/plain": [
       "Text(0.5, 0, 'Dates')"
      ]
     },
     "execution_count": 15,
     "metadata": {},
     "output_type": "execute_result"
    },
    {
     "data": {
      "image/png": "[encoded data removed]",
      "text/plain": [
       "<Figure size 1440x504 with 1 Axes>"
      ]
     },
     "metadata": {
      "needs_background": "light"
     },
     "output_type": "display_data"
    }
   ],
   "source": [
    "ax = merged_data.plot(kind='bar', figsize=(20, 7))\n",
    "ax.set_xticklabels(merged_data.Date, rotation=45)\n",
    "ax.set_ylabel('CPI vs. Wages and salaries - 12-month change')\n",
    "ax.set_xlabel('Dates')"
   ]
  },
  {
   "cell_type": "code",
   "execution_count": 16,
   "metadata": {},
   "outputs": [
    {
     "data": {
      "image/png": "[encoded data removed]",
      "text/plain": [
       "<Figure size 1440x504 with 1 Axes>"
      ]
     },
     "metadata": {
      "needs_background": "light"
     },
     "output_type": "display_data"
    }
   ],
   "source": [
    "ax = merged_data.plot(kind='line', figsize=(20, 7))\n",
    "#ax.set_xticklabels(merged_data.Date, rotation=45)\n",
    "ax.set_ylabel('CPI vs. Wages and salaries - 12-month change')\n",
    "ax.set_xlabel('Dates')\n",
    "ax.grid()"
   ]
  },
  {
   "cell_type": "code",
   "execution_count": 17,
   "metadata": {},
   "outputs": [],
   "source": [
    "# Incorporate S&P 500 quotes"
   ]
  },
  {
   "cell_type": "code",
   "execution_count": 18,
   "metadata": {},
   "outputs": [],
   "source": [
    "sp = pd.read_csv('new_s_p_500.csv')"
   ]
  },
  {
   "cell_type": "code",
   "execution_count": 19,
   "metadata": {},
   "outputs": [
    {
     "data": {
      "text/html": [
       "<div>\n",
       "<style scoped>\n",
       "    .dataframe tbody tr th:only-of-type {\n",
       "        vertical-align: middle;\n",
       "    }\n",
       "\n",
       "    .dataframe tbody tr th {\n",
       "        vertical-align: top;\n",
       "    }\n",
       "\n",
       "    .dataframe thead th {\n",
       "        text-align: right;\n",
       "    }\n",
       "</style>\n",
       "<table border=\"1\" class=\"dataframe\">\n",
       "  <thead>\n",
       "    <tr style=\"text-align: right;\">\n",
       "      <th></th>\n",
       "      <th>Date</th>\n",
       "      <th>Open</th>\n",
       "      <th>High</th>\n",
       "      <th>Low</th>\n",
       "      <th>Close</th>\n",
       "    </tr>\n",
       "  </thead>\n",
       "  <tbody>\n",
       "    <tr>\n",
       "      <th>0</th>\n",
       "      <td>01/02/02</td>\n",
       "      <td>1154.67</td>\n",
       "      <td>1154.67</td>\n",
       "      <td>1136.23</td>\n",
       "      <td>1154.67</td>\n",
       "    </tr>\n",
       "    <tr>\n",
       "      <th>1</th>\n",
       "      <td>01/03/02</td>\n",
       "      <td>1165.27</td>\n",
       "      <td>1165.27</td>\n",
       "      <td>1154.01</td>\n",
       "      <td>1165.27</td>\n",
       "    </tr>\n",
       "    <tr>\n",
       "      <th>2</th>\n",
       "      <td>01/04/02</td>\n",
       "      <td>1172.51</td>\n",
       "      <td>1176.55</td>\n",
       "      <td>1163.42</td>\n",
       "      <td>1172.51</td>\n",
       "    </tr>\n",
       "    <tr>\n",
       "      <th>3</th>\n",
       "      <td>01/07/02</td>\n",
       "      <td>1164.89</td>\n",
       "      <td>1176.97</td>\n",
       "      <td>1163.55</td>\n",
       "      <td>1164.89</td>\n",
       "    </tr>\n",
       "    <tr>\n",
       "      <th>4</th>\n",
       "      <td>01/08/02</td>\n",
       "      <td>1160.71</td>\n",
       "      <td>1167.60</td>\n",
       "      <td>1157.46</td>\n",
       "      <td>1160.71</td>\n",
       "    </tr>\n",
       "    <tr>\n",
       "      <th>...</th>\n",
       "      <td>...</td>\n",
       "      <td>...</td>\n",
       "      <td>...</td>\n",
       "      <td>...</td>\n",
       "      <td>...</td>\n",
       "    </tr>\n",
       "    <tr>\n",
       "      <th>4779</th>\n",
       "      <td>12/24/20</td>\n",
       "      <td>3694.03</td>\n",
       "      <td>3703.82</td>\n",
       "      <td>3689.32</td>\n",
       "      <td>3703.06</td>\n",
       "    </tr>\n",
       "    <tr>\n",
       "      <th>4780</th>\n",
       "      <td>12/28/20</td>\n",
       "      <td>3723.03</td>\n",
       "      <td>3740.51</td>\n",
       "      <td>3723.03</td>\n",
       "      <td>3735.36</td>\n",
       "    </tr>\n",
       "    <tr>\n",
       "      <th>4781</th>\n",
       "      <td>12/29/20</td>\n",
       "      <td>3750.01</td>\n",
       "      <td>3756.12</td>\n",
       "      <td>3723.31</td>\n",
       "      <td>3727.04</td>\n",
       "    </tr>\n",
       "    <tr>\n",
       "      <th>4782</th>\n",
       "      <td>12/30/20</td>\n",
       "      <td>3736.19</td>\n",
       "      <td>3744.63</td>\n",
       "      <td>3730.21</td>\n",
       "      <td>3732.04</td>\n",
       "    </tr>\n",
       "    <tr>\n",
       "      <th>4783</th>\n",
       "      <td>12/31/20</td>\n",
       "      <td>3733.27</td>\n",
       "      <td>3760.20</td>\n",
       "      <td>3726.88</td>\n",
       "      <td>3756.07</td>\n",
       "    </tr>\n",
       "  </tbody>\n",
       "</table>\n",
       "<p>4784 rows × 5 columns</p>\n",
       "</div>"
      ],
      "text/plain": [
       "          Date     Open     High      Low    Close\n",
       "0     01/02/02  1154.67  1154.67  1136.23  1154.67\n",
       "1     01/03/02  1165.27  1165.27  1154.01  1165.27\n",
       "2     01/04/02  1172.51  1176.55  1163.42  1172.51\n",
       "3     01/07/02  1164.89  1176.97  1163.55  1164.89\n",
       "4     01/08/02  1160.71  1167.60  1157.46  1160.71\n",
       "...        ...      ...      ...      ...      ...\n",
       "4779  12/24/20  3694.03  3703.82  3689.32  3703.06\n",
       "4780  12/28/20  3723.03  3740.51  3723.03  3735.36\n",
       "4781  12/29/20  3750.01  3756.12  3723.31  3727.04\n",
       "4782  12/30/20  3736.19  3744.63  3730.21  3732.04\n",
       "4783  12/31/20  3733.27  3760.20  3726.88  3756.07\n",
       "\n",
       "[4784 rows x 5 columns]"
      ]
     },
     "execution_count": 19,
     "metadata": {},
     "output_type": "execute_result"
    }
   ],
   "source": [
    "sp"
   ]
  },
  {
   "cell_type": "code",
   "execution_count": 20,
   "metadata": {},
   "outputs": [],
   "source": [
    "sp['Date'] = sp['Date'].astype('datetime64[ns]')"
   ]
  },
  {
   "cell_type": "code",
   "execution_count": 21,
   "metadata": {},
   "outputs": [],
   "source": [
    "sp['Date'] = sp['Date'].dt.strftime('%Y-%m-%d')"
   ]
  },
  {
   "cell_type": "code",
   "execution_count": 22,
   "metadata": {},
   "outputs": [],
   "source": [
    "sp['Date'] = sp['Date'].str.replace('-03-30', 'Q1')\n",
    "sp['Date'] = sp['Date'].str.replace('-06-30', 'Q2')\n",
    "sp['Date'] = sp['Date'].str.replace('-09-30', 'Q3')\n",
    "sp['Date'] = sp['Date'].str.replace('-12-31', 'Q4')"
   ]
  },
  {
   "cell_type": "code",
   "execution_count": 23,
   "metadata": {},
   "outputs": [],
   "source": [
    "sp = sp[(sp.Date.str.contains(\"Q\") == True)]"
   ]
  },
  {
   "cell_type": "code",
   "execution_count": 24,
   "metadata": {},
   "outputs": [],
   "source": [
    "sp1 = sp[['Date', 'Close']]"
   ]
  },
  {
   "cell_type": "code",
   "execution_count": 26,
   "metadata": {},
   "outputs": [],
   "source": [
    "from functools import reduce\n",
    "dfs = [newcpi, newwages, sp1]\n",
    "df_triple = reduce(lambda left,right:\n",
    "                   pd.merge(left,right,on='Date'), dfs)"
   ]
  },
  {
   "cell_type": "code",
   "execution_count": 27,
   "metadata": {},
   "outputs": [],
   "source": [
    "#df2 = sp1.sort_index(axis=0 ,ascending=True)"
   ]
  },
  {
   "cell_type": "code",
   "execution_count": 28,
   "metadata": {},
   "outputs": [
    {
     "data": {
      "text/plain": [
       "Text(0.5, 0, 'Dates')"
      ]
     },
     "execution_count": 28,
     "metadata": {},
     "output_type": "execute_result"
    },
    {
     "data": {
      "image/png": "[encoded data removed]",
      "text/plain": [
       "<Figure size 1440x504 with 1 Axes>"
      ]
     },
     "metadata": {
      "needs_background": "light"
     },
     "output_type": "display_data"
    }
   ],
   "source": [
    "ax = df_triple.plot(kind='line', figsize=(20, 7))\n",
    "ax.set_xticklabels(df_triple.Date, rotation=45)\n",
    "ax.set_ylabel('S&P, CPI, and Wages')\n",
    "ax.set_xlabel('Dates')"
   ]
  },
  {
   "cell_type": "code",
   "execution_count": 29,
   "metadata": {},
   "outputs": [
    {
     "data": {
      "text/plain": [
       "Text(0.5, 0, 'Dates')"
      ]
     },
     "execution_count": 29,
     "metadata": {},
     "output_type": "execute_result"
    },
    {
     "data": {
      "image/png": "[encoded data removed]",
      "text/plain": [
       "<Figure size 1440x504 with 1 Axes>"
      ]
     },
     "metadata": {
      "needs_background": "light"
     },
     "output_type": "display_data"
    }
   ],
   "source": [
    "ax = sp1.plot(kind='bar', figsize=(20, 7))\n",
    "ax.set_xticklabels(sp1.Date, rotation=45)\n",
    "ax.set_ylabel('S&P Index quotes by month')\n",
    "ax.set_xlabel('Dates')"
   ]
  },
  {
   "cell_type": "code",
   "execution_count": 30,
   "metadata": {},
   "outputs": [
    {
     "data": {
      "text/plain": [
       "Text(0.5, 0, 'Dates')"
      ]
     },
     "execution_count": 30,
     "metadata": {},
     "output_type": "execute_result"
    },
    {
     "data": {
      "image/png": "[encoded data removed]",
      "text/plain": [
       "<Figure size 1440x504 with 1 Axes>"
      ]
     },
     "metadata": {
      "needs_background": "light"
     },
     "output_type": "display_data"
    }
   ],
   "source": [
    "ax = merged_data.plot(kind='line', figsize=(20, 7))\n",
    "ax.set_xticklabels(merged_data.Date, rotation=45)\n",
    "ax.set_ylabel('CPI vs. Wages and salaries - 12-month change')\n",
    "ax.set_xlabel('Dates')"
   ]
  },
  {
   "cell_type": "code",
   "execution_count": 40,
   "metadata": {},
   "outputs": [
    {
     "name": "stdout",
     "output_type": "stream",
     "text": [
      "The S&P had a CAGR of 7.94% \n"
     ]
    }
   ],
   "source": [
    "first = 815.28\n",
    "last = 3756.07\n",
    "periods = 20\n",
    "    \n",
    "def CAGR(first, last, periods):\n",
    "    return (last/first)**(1/periods)-1\n",
    "\n",
    "print ('The S&P had a CAGR of {:.2%} '.format(CAGR(first, last, periods)))"
   ]
  },
  {
   "cell_type": "code",
   "execution_count": 41,
   "metadata": {},
   "outputs": [
    {
     "name": "stdout",
     "output_type": "stream",
     "text": [
      "The Consumer Price Index had a CAGR of 1.90% \n"
     ]
    }
   ],
   "source": [
    "first = 178.8\n",
    "last = 260.28\n",
    "periods = 20\n",
    "    \n",
    "def CAGR(first, last, periods):\n",
    "    return (last/first)**(1/periods)-1\n",
    "\n",
    "print ('The Consumer Price Index had a CAGR of {:.2%} \n",
    "       '.format(CAGR(first, last, periods)))"
   ]
  },
  {
   "cell_type": "code",
   "execution_count": 42,
   "metadata": {},
   "outputs": [
    {
     "name": "stdout",
     "output_type": "stream",
     "text": [
      "Wages had a CAGR of 2.30% \n"
     ]
    }
   ],
   "source": [
    "first = 178.64\n",
    "last = 281.31\n",
    "periods = 20\n",
    "    \n",
    "def CAGR(first, last, periods):\n",
    "    return (last/first)**(1/periods)-1\n",
    "\n",
    "print ('Wages had a CAGR of {:.2%} '.format(CAGR(first, last, periods)))"
   ]
  }
 ],
 "metadata": {
  "kernelspec": {
   "display_name": "Python 3",
   "language": "python",
   "name": "python3"
  },
  "language_info": {
   "codemirror_mode": {
    "name": "ipython",
    "version": 3
   },
   "file_extension": ".py",
   "mimetype": "text/x-python",
   "name": "python",
   "nbconvert_exporter": "python",
   "pygments_lexer": "ipython3",
   "version": "3.7.6"
  }
 },
 "nbformat": 4,
 "nbformat_minor": 4
}
