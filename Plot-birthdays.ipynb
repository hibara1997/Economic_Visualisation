{
 "cells": [
  {
   "cell_type": "code",
   "execution_count": 141,
   "metadata": {},
   "outputs": [],
   "source": [
    "import pandas as pd\n",
    "import requests\n",
    "import json\n",
    "import matplotlib.pyplot as plt\n",
    "import numpy as np"
   ]
  },
  {
   "cell_type": "code",
   "execution_count": 157,
   "metadata": {
    "scrolled": false
   },
   "outputs": [
    {
     "data": {
      "text/plain": [
       "<matplotlib.axes._subplots.AxesSubplot at 0x7f2ccf19a550>"
      ]
     },
     "execution_count": 157,
     "metadata": {},
     "output_type": "execute_result"
    },
    {
     "data": {
      "image/png": "[encoded data removed]",
      "text/plain": [
       "<Figure size 432x288 with 1 Axes>"
      ]
     },
     "metadata": {
      "needs_background": "light"
     },
     "output_type": "display_data"
    }
   ],
   "source": [
    "df3 = pd.DataFrame(columns=['months'])\n",
    "# num_list = [1, 2, 3, 4, 5, 6, 7, 8, 9, 10, 11, 13, 14, 15, 16, 17, 18, 19, 20, 22, 23, 24, 25, 28, 29, 30]\n",
    "for team_id in range(1, 11, 1):\n",
    "    url = 'https://statsapi.web.nhl.com/api/v1/teams/{}/roster'.format(team_id)\n",
    "    r = requests.get(url)\n",
    "    roster_data = r.json()\n",
    "    df = pd.json_normalize(roster_data['roster'])\n",
    "    for index, row in df.iterrows():\n",
    "        newrow = row['person.id']\n",
    "        url = 'https://statsapi.web.nhl.com/api/v1/people/{}'.format(newrow)\n",
    "        #print(url)\n",
    "        newerdata = requests.get(url)\n",
    "        player_stats = newerdata.json()\n",
    "        birthday = (player_stats['people'][0]['birthDate'])\n",
    "        newmonth = int(birthday.split('-')[1])\n",
    "        df3 = df3.append({'months': newmonth}, ignore_index=True)\n",
    "        #plt.plot(newmonth)\n",
    "#df1.plot(kind=\"bar\")\n",
    "df3.months.hist()"
   ]
  },
  {
   "cell_type": "code",
   "execution_count": 179,
   "metadata": {},
   "outputs": [
    {
     "data": {
      "text/plain": [
       "<matplotlib.axes._subplots.AxesSubplot at 0x7f2ccefb1e10>"
      ]
     },
     "execution_count": 179,
     "metadata": {},
     "output_type": "execute_result"
    },
    {
     "data": {
      "image/png": "[encoded data removed]",
      "text/plain": [
       "<Figure size 432x288 with 1 Axes>"
      ]
     },
     "metadata": {
      "needs_background": "light"
     },
     "output_type": "display_data"
    }
   ],
   "source": [
    "for team_id in range(13, 20, 1):\n",
    "    url = 'https://statsapi.web.nhl.com/api/v1/teams/{}/roster'.format(team_id)\n",
    "    r = requests.get(url)\n",
    "    roster_data = r.json()\n",
    "    df = pd.json_normalize(roster_data['roster'])\n",
    "    for index, row in df.iterrows():\n",
    "        newrow = row['person.id']\n",
    "        url = 'https://statsapi.web.nhl.com/api/v1/people/{}'.format(newrow)\n",
    "        #print(url)\n",
    "        newerdata = requests.get(url)\n",
    "        player_stats = newerdata.json()\n",
    "        birthday = (player_stats['people'][0]['birthDate'])\n",
    "        newmonth = int(birthday.split('-')[1])\n",
    "        df3 = df3.append({'months': newmonth}, ignore_index=True)\n",
    "        #plt.plot(newmonth)\n",
    "#df1.plot(kind=\"bar\")\n",
    "df3.months.hist()"
   ]
  },
  {
   "cell_type": "code",
   "execution_count": 180,
   "metadata": {},
   "outputs": [
    {
     "data": {
      "text/plain": [
       "<matplotlib.axes._subplots.AxesSubplot at 0x7f2ccee98350>"
      ]
     },
     "execution_count": 180,
     "metadata": {},
     "output_type": "execute_result"
    },
    {
     "data": {
      "image/png": "[encoded data removed]",
      "text/plain": [
       "<Figure size 432x288 with 1 Axes>"
      ]
     },
     "metadata": {
      "needs_background": "light"
     },
     "output_type": "display_data"
    }
   ],
   "source": [
    "for team_id in range(22, 25, 1):\n",
    "    url = 'https://statsapi.web.nhl.com/api/v1/teams/{}/roster'.format(team_id)\n",
    "    r = requests.get(url)\n",
    "    roster_data = r.json()\n",
    "    df = pd.json_normalize(roster_data['roster'])\n",
    "    for index, row in df.iterrows():\n",
    "        newrow = row['person.id']\n",
    "        url = 'https://statsapi.web.nhl.com/api/v1/people/{}'.format(newrow)\n",
    "        #print(url)\n",
    "        newerdata = requests.get(url)\n",
    "        player_stats = newerdata.json()\n",
    "        birthday = (player_stats['people'][0]['birthDate'])\n",
    "        newmonth = int(birthday.split('-')[1])\n",
    "        df3 = df3.append({'months': newmonth}, ignore_index=True)\n",
    "        #plt.plot(newmonth)\n",
    "#df1.plot(kind=\"bar\")\n",
    "df3.months.hist()"
   ]
  },
  {
   "cell_type": "code",
   "execution_count": 181,
   "metadata": {},
   "outputs": [
    {
     "data": {
      "text/plain": [
       "<matplotlib.axes._subplots.AxesSubplot at 0x7f2ccee11610>"
      ]
     },
     "execution_count": 181,
     "metadata": {},
     "output_type": "execute_result"
    },
    {
     "data": {
      "image/png": "[encoded data removed]",
      "text/plain": [
       "<Figure size 432x288 with 1 Axes>"
      ]
     },
     "metadata": {
      "needs_background": "light"
     },
     "output_type": "display_data"
    }
   ],
   "source": [
    "for team_id in range(28, 30, 1):\n",
    "    url = 'https://statsapi.web.nhl.com/api/v1/teams/{}/roster'.format(team_id)\n",
    "    r = requests.get(url)\n",
    "    roster_data = r.json()\n",
    "    df = pd.json_normalize(roster_data['roster'])\n",
    "    for index, row in df.iterrows():\n",
    "        newrow = row['person.id']\n",
    "        url = 'https://statsapi.web.nhl.com/api/v1/people/{}'.format(newrow)\n",
    "        #print(url)\n",
    "        newerdata = requests.get(url)\n",
    "        player_stats = newerdata.json()\n",
    "        birthday = (player_stats['people'][0]['birthDate'])\n",
    "        newmonth = int(birthday.split('-')[1])\n",
    "        df3 = df3.append({'months': newmonth}, ignore_index=True)\n",
    "        #plt.plot(newmonth)\n",
    "#df1.plot(kind=\"bar\")\n",
    "df3.months.hist()"
   ]
  },
  {
   "cell_type": "code",
   "execution_count": 184,
   "metadata": {},
   "outputs": [],
   "source": [
    "df3.to_csv('player_data.csv') "
   ]
  },
  {
   "cell_type": "code",
   "execution_count": 177,
   "metadata": {},
   "outputs": [
    {
     "ename": "KeyError",
     "evalue": "'roster'",
     "output_type": "error",
     "traceback": [
      "\u001b[0;31m---------------------------------------------------------------------------\u001b[0m",
      "\u001b[0;31mKeyError\u001b[0m                                  Traceback (most recent call last)",
      "\u001b[0;32m<ipython-input-177-bf18e300bbf9>\u001b[0m in \u001b[0;36m<module>\u001b[0;34m\u001b[0m\n\u001b[1;32m      6\u001b[0m     \u001b[0mr\u001b[0m \u001b[0;34m=\u001b[0m \u001b[0mrequests\u001b[0m\u001b[0;34m.\u001b[0m\u001b[0mget\u001b[0m\u001b[0;34m(\u001b[0m\u001b[0murl\u001b[0m\u001b[0;34m)\u001b[0m\u001b[0;34m\u001b[0m\u001b[0;34m\u001b[0m\u001b[0m\n\u001b[1;32m      7\u001b[0m     \u001b[0mroster_data\u001b[0m \u001b[0;34m=\u001b[0m \u001b[0mr\u001b[0m\u001b[0;34m.\u001b[0m\u001b[0mjson\u001b[0m\u001b[0;34m(\u001b[0m\u001b[0;34m)\u001b[0m\u001b[0;34m\u001b[0m\u001b[0;34m\u001b[0m\u001b[0m\n\u001b[0;32m----> 8\u001b[0;31m     \u001b[0mdf\u001b[0m \u001b[0;34m=\u001b[0m \u001b[0mpd\u001b[0m\u001b[0;34m.\u001b[0m\u001b[0mjson_normalize\u001b[0m\u001b[0;34m(\u001b[0m\u001b[0mroster_data\u001b[0m\u001b[0;34m[\u001b[0m\u001b[0;34m'roster'\u001b[0m\u001b[0;34m]\u001b[0m\u001b[0;34m)\u001b[0m\u001b[0;34m\u001b[0m\u001b[0;34m\u001b[0m\u001b[0m\n\u001b[0m\u001b[1;32m      9\u001b[0m     \u001b[0;32mfor\u001b[0m \u001b[0mindex\u001b[0m\u001b[0;34m,\u001b[0m \u001b[0mrow\u001b[0m \u001b[0;32min\u001b[0m \u001b[0mdf\u001b[0m\u001b[0;34m.\u001b[0m\u001b[0miterrows\u001b[0m\u001b[0;34m(\u001b[0m\u001b[0;34m)\u001b[0m\u001b[0;34m:\u001b[0m\u001b[0;34m\u001b[0m\u001b[0;34m\u001b[0m\u001b[0m\n\u001b[1;32m     10\u001b[0m         \u001b[0mnewrow\u001b[0m \u001b[0;34m=\u001b[0m \u001b[0mrow\u001b[0m\u001b[0;34m[\u001b[0m\u001b[0;34m'person.id'\u001b[0m\u001b[0;34m]\u001b[0m\u001b[0;34m\u001b[0m\u001b[0;34m\u001b[0m\u001b[0m\n",
      "\u001b[0;31mKeyError\u001b[0m: 'roster'"
     ]
    }
   ],
   "source": [
    "df4 = pd.DataFrame(columns=['months'])\n",
    "\n",
    "read_for = open('data/teams.txt')\n",
    "for txt_line in read_for:\n",
    "    url = txt_line\n",
    "    r = requests.get(url)\n",
    "    roster_data = r.json()\n",
    "    df = pd.json_normalize(roster_data['roster'])\n",
    "    for index, row in df.iterrows():\n",
    "        newrow = row['person.id']\n",
    "        url = 'https://statsapi.web.nhl.com/api/v1/people/{}'.format(newrow)\n",
    "        #print(url)\n",
    "        newerdata = requests.get(url)\n",
    "        player_stats = newerdata.json()\n",
    "        birthday = (player_stats['people'][0]['birthDate'])\n",
    "        newmonth = int(birthday.split('-')[1])\n",
    "        df3 = df3.append({'months': newmonth}, ignore_index=True)\n",
    "        #plt.plot(newmonth)\n",
    "#df1.plot(kind=\"bar\")\n",
    "df4.months.hist()"
   ]
  },
  {
   "cell_type": "code",
   "execution_count": 120,
   "metadata": {},
   "outputs": [
    {
     "name": "stdout",
     "output_type": "stream",
     "text": [
      "5\n",
      "11\n",
      "9\n",
      "3\n",
      "5\n",
      "3\n",
      "3\n",
      "1\n",
      "8\n",
      "11\n",
      "2\n",
      "4\n",
      "7\n",
      "2\n",
      "4\n",
      "12\n",
      "1\n",
      "10\n",
      "7\n",
      "7\n",
      "8\n",
      "1\n",
      "9\n",
      "3\n",
      "6\n",
      "11\n",
      "9\n",
      "3\n",
      "8\n",
      "8\n",
      "1\n",
      "7\n",
      "10\n",
      "3\n",
      "3\n",
      "11\n"
     ]
    }
   ],
   "source": [
    "\n",
    "url = 'https://statsapi.web.nhl.com/api/v1/teams/28/roster'.format(team_id)\n",
    "r = requests.get(url)\n",
    "roster_data = r.json()\n",
    "df = pd.json_normalize(roster_data['roster'])\n",
    "for index, row in df.iterrows():\n",
    "    newrow = row['person.id']\n",
    "    url = 'https://statsapi.web.nhl.com/api/v1/people/{}'.format(newrow)\n",
    "    newerdata = requests.get(url)\n",
    "    player_stats = newerdata.json()\n",
    "    birthday = (player_stats['people'][0]['birthDate'])\n",
    "    newmonth = int(birthday.split('-')[1])\n",
    "    print(newmonth)"
   ]
  },
  {
   "cell_type": "markdown",
   "metadata": {},
   "source": [
    "r = requests.get(url)\n",
    "player_data = r.json()\n",
    "df = pd.json_normalize(player_data['roster'])"
   ]
  }
 ],
 "metadata": {
  "kernelspec": {
   "display_name": "Python 3",
   "language": "python",
   "name": "python3"
  },
  "language_info": {
   "codemirror_mode": {
    "name": "ipython",
    "version": 3
   },
   "file_extension": ".py",
   "mimetype": "text/x-python",
   "name": "python",
   "nbconvert_exporter": "python",
   "pygments_lexer": "ipython3",
   "version": "3.7.6"
  }
 },
 "nbformat": 4,
 "nbformat_minor": 4
}
